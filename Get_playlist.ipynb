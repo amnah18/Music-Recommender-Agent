{
 "cells": [
  {
   "cell_type": "markdown",
   "metadata": {},
   "source": [
    "# Get Playlists From Spotify using spotipy library"
   ]
  },
  {
   "cell_type": "code",
   "execution_count": 22,
   "metadata": {},
   "outputs": [],
   "source": [
    "import os,json\n",
    "from flask import Flask, redirect,session, url_for, request\n",
    "from spotipy import Spotify\n",
    "from spotipy.oauth2 import SpotifyOAuth\n",
    "from spotipy.cache_handler import FlaskSessionCacheHandler"
   ]
  },
  {
   "cell_type": "code",
   "execution_count": 23,
   "metadata": {},
   "outputs": [],
   "source": [
    "client_id = \"258ba1badd9247c9b88999500e883d59\"\n",
    "client_secret = \"d45f2362c5bd42718060bd8a58038f32\"\n",
    "redirect_uri = 'http://localhost:5000/callback'\n",
    "scope= 'playlist-read-private' \n",
    "cache_handler = FlaskSessionCacheHandler(session)"
   ]
  },
  {
   "cell_type": "code",
   "execution_count": 24,
   "metadata": {},
   "outputs": [],
   "source": [
    "sp = Spotify(auth_manager=SpotifyOAuth(\n",
    "    client_id=client_id,\n",
    "    client_secret=client_secret,\n",
    "    redirect_uri=redirect_uri,\n",
    "    scope=scope,\n",
    "    open_browser=True  # Opens a browser for authentication\n",
    "))\n"
   ]
  },
  {
   "cell_type": "code",
   "execution_count": 26,
   "metadata": {},
   "outputs": [],
   "source": [
    "def get_playlists():\n",
    "    \"\"\"Fetch the current user's playlists.\"\"\"\n",
    "    playlists = []\n",
    "    results = sp.current_user_playlists()\n",
    "\n",
    "    while results:\n",
    "        for item in results[\"items\"]:\n",
    "            playlists.append({\n",
    "                \"id\": item[\"id\"],\n",
    "                \"name\": item[\"name\"],\n",
    "                \"url\": item[\"external_urls\"][\"spotify\"]\n",
    "            })\n",
    "        results = sp.next(results) if results[\"next\"] else None\n",
    "\n",
    "    return playlists\n"
   ]
  },
  {
   "cell_type": "code",
   "execution_count": 27,
   "metadata": {},
   "outputs": [
    {
     "name": "stdout",
     "output_type": "stream",
     "text": [
      "✅ Playlists saved to playlists.json\n"
     ]
    }
   ],
   "source": [
    "# Fetch and save playlists\n",
    "playlists_data = get_playlists()\n",
    "\n",
    "with open(\"playlists.json\", \"w\", encoding=\"utf-8\") as f:\n",
    "    json.dump({\"items\": playlists_data}, f, indent=4, ensure_ascii=False)\n",
    "\n",
    "print(\"✅ Playlists saved to playlists.json\")\n"
   ]
  },
  {
   "cell_type": "markdown",
   "metadata": {},
   "source": [
    "### Getting Playlist items i.e. Tracks"
   ]
  },
  {
   "cell_type": "code",
   "execution_count": 28,
   "metadata": {},
   "outputs": [],
   "source": [
    "# Load playlists from JSON file\n",
    "with open(\"playlists.json\", \"r\", encoding=\"utf-8\") as f:\n",
    "    playlists = json.load(f)"
   ]
  },
  {
   "cell_type": "code",
   "execution_count": 35,
   "metadata": {},
   "outputs": [
    {
     "name": "stdout",
     "output_type": "stream",
     "text": [
      "Fetching tracks for Oldies (7sNycTeMl6JLt9s3BFL2ld)...\n",
      "Fetching tracks for Sad Hindi Songs 😔💔  (Mood Off 🥺 )  (189Sow1xr7R94oSKs4kISc)...\n",
      "Fetching tracks for Ghazal Playlist (0iF2mH8FoVaM9Bz8CEK9T3)...\n",
      "Fetching tracks for rafta rafta woh meri🌙✨ (69BKWs1DWxZFajArBy46Fm)...\n",
      "Fetching tracks for Romantic Mix (2) (765QDF4kIYQFjM5d9PHgYS)...\n",
      "Fetching tracks for Gym (5GMx2htp7H6K9nzCG3LKx2)...\n",
      "Fetching tracks for Gala (32Zl4adRA20vp2evFLFBMc)...\n",
      "Fetching tracks for Deep Focus (19btKKOB255dgQsBhN4knw)...\n",
      "Fetching tracks for Tera deedar hua,pehla sa pyaar hua ❤️ (0VO64r49n6jThxu1f4OEY2)...\n",
      "Fetching tracks for Tunes 2k18 to 2k19 (74Lq9FhBnCiqVBipYHhBk7)...\n",
      "Fetching tracks for Pakistani Drama Songs New (1XECRXuaUsjdnvfls5jNK1)...\n",
      "Fetching tracks for Gi (0kIWuUTcXSbr3VG1VzDVSf)...\n",
      "Fetching tracks for Chores (4QYiIqvMYd0ztwkMiUIqR0)...\n",
      "Fetching tracks for  (1XhyuQjJaAoEuYueolk018)...\n",
      "Fetching tracks for 8D Music 2024 🎧 8D Audio | 8D Songs by 8D Tunes (2ULLEdMWHTYLEhNbaclKwS)...\n",
      "Fetching tracks for Lofi Songs (Bollywood) 😌💜 (0ffnLxCftwLzmXDO7DJEXc)...\n",
      "Fetching tracks for Your Top Songs 2022 (4nS6ZTL2bMSjmfQrU5MpZZ)...\n",
      "Fetching tracks for Romantic desi songs (6gPaaMz7bnvLQdKXK0CM7b)...\n",
      "Fetching tracks for Old School Bollywood  (3kvBFQTBl4eLBP7yOTawzr)...\n",
      "Fetching tracks for Motivational (2OsA0Kk1V6ggkjVgLdnzQ5)...\n",
      "Fetching tracks for Heart break (63gkKhpGOfcLmFialng8JH)...\n",
      "Fetching tracks for Korean (55tCIa6baKrnaDawRLQ8co)...\n",
      "Fetching tracks for Nikkah (0KtncqrQn2mnVrTZr69KJx)...\n",
      "Fetching tracks for Punjabi (0ZpUEgf32orPhebHDslifO)...\n",
      "Fetching tracks for Audiobook (0I9E1RJqvnveCheueEtxhF)...\n",
      "Fetching tracks for English Playlist (5GO1yZUGMR4JUnGoH9yC6R)...\n",
      "Fetching tracks for Pakistani (4XDwVr9jWk52Qp75WaU9Wa)...\n",
      "Fetching tracks for Drive playlist (6V0SbhLVm5Bq2BZ0La7Xq7)...\n",
      "Fetching tracks for Hindi songs (0ctViW4w9ml5jE6Vi6numY)...\n",
      "Fetching tracks for Chill vibes (0SOljTMZP6b3PnrSCzuVZI)...\n",
      "Fetching tracks for Mama playlist (6OA8ZV9mrsdileHToLEvMc)...\n",
      "Fetching tracks for funfair (2hADL3NLdb80ZsOHOXIH42)...\n",
      "Fetching tracks for Night Vibes (0HJwibBZsGVgFKglJ3W1r7)...\n"
     ]
    }
   ],
   "source": [
    "# Loop through playlists and fetch tracks\n",
    "tracks_data = {}\n",
    "for playlist in playlists.get(\"items\", []):\n",
    "    playlist_id = playlist.get(\"id\")\n",
    "    playlist_name = playlist.get(\"name\", \"Unknown Playlist\")\n",
    "    print(f\"Fetching tracks for {playlist_name} ({playlist_id})...\")\n",
    "    tracks_data[playlist_name] = sp.playlist_items(playlist_id)"
   ]
  },
  {
   "cell_type": "code",
   "execution_count": 36,
   "metadata": {},
   "outputs": [
    {
     "name": "stdout",
     "output_type": "stream",
     "text": [
      "Tracks saved to tracks.json\n"
     ]
    }
   ],
   "source": [
    "# Save to tracks.json\n",
    "with open(\"tracks.json\", \"w\", encoding=\"utf-8\") as f:\n",
    "    json.dump(tracks_data, f, indent=4, ensure_ascii=False)\n",
    "\n",
    "print(\"Tracks saved to tracks.json\")"
   ]
  }
 ],
 "metadata": {
  "kernelspec": {
   "display_name": ".venv",
   "language": "python",
   "name": "python3"
  },
  "language_info": {
   "codemirror_mode": {
    "name": "ipython",
    "version": 3
   },
   "file_extension": ".py",
   "mimetype": "text/x-python",
   "name": "python",
   "nbconvert_exporter": "python",
   "pygments_lexer": "ipython3",
   "version": "3.13.2"
  }
 },
 "nbformat": 4,
 "nbformat_minor": 2
}
