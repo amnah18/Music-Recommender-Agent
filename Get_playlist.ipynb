{
 "cells": [
  {
   "cell_type": "code",
   "execution_count": 22,
   "metadata": {},
   "outputs": [],
   "source": [
    "import os,json\n",
    "from flask import Flask, redirect,session, url_for, request\n",
    "from spotipy import Spotify\n",
    "from spotipy.oauth2 import SpotifyOAuth\n",
    "from spotipy.cache_handler import FlaskSessionCacheHandler"
   ]
  },
  {
   "cell_type": "code",
   "execution_count": 23,
   "metadata": {},
   "outputs": [],
   "source": [
    "client_id = \"258ba1badd9247c9b88999500e883d59\"\n",
    "client_secret = \"d45f2362c5bd42718060bd8a58038f32\"\n",
    "redirect_uri = 'http://localhost:5000/callback'\n",
    "scope= 'playlist-read-private' \n",
    "cache_handler = FlaskSessionCacheHandler(session)"
   ]
  },
  {
   "cell_type": "code",
   "execution_count": 24,
   "metadata": {},
   "outputs": [],
   "source": [
    "sp = Spotify(auth_manager=SpotifyOAuth(\n",
    "    client_id=client_id,\n",
    "    client_secret=client_secret,\n",
    "    redirect_uri=redirect_uri,\n",
    "    scope=scope,\n",
    "    open_browser=True  # Opens a browser for authentication\n",
    "))\n"
   ]
  },
  {
   "cell_type": "code",
   "execution_count": 25,
   "metadata": {},
   "outputs": [
    {
     "data": {
      "text/plain": [
       "<spotipy.client.Spotify at 0x16a83b6ac10>"
      ]
     },
     "execution_count": 25,
     "metadata": {},
     "output_type": "execute_result"
    }
   ],
   "source": [
    "sp"
   ]
  },
  {
   "cell_type": "code",
   "execution_count": 26,
   "metadata": {},
   "outputs": [],
   "source": [
    "def get_playlists():\n",
    "    \"\"\"Fetch the current user's playlists.\"\"\"\n",
    "    playlists = []\n",
    "    results = sp.current_user_playlists()\n",
    "\n",
    "    while results:\n",
    "        for item in results[\"items\"]:\n",
    "            playlists.append({\n",
    "                \"id\": item[\"id\"],\n",
    "                \"name\": item[\"name\"],\n",
    "                \"url\": item[\"external_urls\"][\"spotify\"]\n",
    "            })\n",
    "        results = sp.next(results) if results[\"next\"] else None\n",
    "\n",
    "    return playlists\n"
   ]
  },
  {
   "cell_type": "code",
   "execution_count": 27,
   "metadata": {},
   "outputs": [
    {
     "name": "stdout",
     "output_type": "stream",
     "text": [
      "✅ Playlists saved to playlists.json\n"
     ]
    }
   ],
   "source": [
    "# Fetch and save playlists\n",
    "playlists_data = get_playlists()\n",
    "\n",
    "with open(\"playlists.json\", \"w\", encoding=\"utf-8\") as f:\n",
    "    json.dump({\"items\": playlists_data}, f, indent=4, ensure_ascii=False)\n",
    "\n",
    "print(\"✅ Playlists saved to playlists.json\")\n"
   ]
  },
  {
   "cell_type": "code",
   "execution_count": null,
   "metadata": {},
   "outputs": [],
   "source": []
  }
 ],
 "metadata": {
  "kernelspec": {
   "display_name": ".venv",
   "language": "python",
   "name": "python3"
  },
  "language_info": {
   "codemirror_mode": {
    "name": "ipython",
    "version": 3
   },
   "file_extension": ".py",
   "mimetype": "text/x-python",
   "name": "python",
   "nbconvert_exporter": "python",
   "pygments_lexer": "ipython3",
   "version": "3.13.2"
  }
 },
 "nbformat": 4,
 "nbformat_minor": 2
}
