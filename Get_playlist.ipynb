{
 "cells": [
  {
   "cell_type": "markdown",
   "metadata": {},
   "source": [
    "# Get Playlists items from Spotify using spotipy library"
   ]
  },
  {
   "cell_type": "code",
   "execution_count": 22,
   "metadata": {},
   "outputs": [],
   "source": [
    "import os,json\n",
    "from flask import Flask, redirect,session, url_for, request\n",
    "from spotipy import Spotify\n",
    "from spotipy.oauth2 import SpotifyOAuth\n",
    "from spotipy.cache_handler import FlaskSessionCacheHandler"
   ]
  },
  {
   "cell_type": "code",
   "execution_count": 23,
   "metadata": {},
   "outputs": [],
   "source": [
    "client_id = \"258ba1badd9247c9b88999500e883d59\"\n",
    "client_secret = \"d45f2362c5bd42718060bd8a58038f32\"\n",
    "redirect_uri = 'http://localhost:5000/callback'\n",
    "scope= 'playlist-read-private' \n",
    "cache_handler = FlaskSessionCacheHandler(session)"
   ]
  },
  {
   "cell_type": "code",
   "execution_count": 24,
   "metadata": {},
   "outputs": [],
   "source": [
    "sp = Spotify(auth_manager=SpotifyOAuth(\n",
    "    client_id=client_id,\n",
    "    client_secret=client_secret,\n",
    "    redirect_uri=redirect_uri,\n",
    "    scope=scope,\n",
    "    open_browser=True  # Opens a browser for authentication\n",
    "))\n"
   ]
  },
  {
   "cell_type": "code",
   "execution_count": 26,
   "metadata": {},
   "outputs": [],
   "source": [
    "def get_playlists():\n",
    "    \"\"\"Fetch the current user's playlists.\"\"\"\n",
    "    playlists = []\n",
    "    results = sp.current_user_playlists()\n",
    "\n",
    "    while results:\n",
    "        for item in results[\"items\"]:\n",
    "            playlists.append({\n",
    "                \"id\": item[\"id\"],\n",
    "                \"name\": item[\"name\"],\n",
    "                \"url\": item[\"external_urls\"][\"spotify\"]\n",
    "            })\n",
    "        results = sp.next(results) if results[\"next\"] else None\n",
    "\n",
    "    return playlists\n"
   ]
  },
  {
   "cell_type": "code",
   "execution_count": 27,
   "metadata": {},
   "outputs": [
    {
     "name": "stdout",
     "output_type": "stream",
     "text": [
      "✅ Playlists saved to playlists.json\n"
     ]
    }
   ],
   "source": [
    "# Fetch and save playlists\n",
    "playlists_data = get_playlists()\n",
    "\n",
    "with open(\"playlists.json\", \"w\", encoding=\"utf-8\") as f:\n",
    "    json.dump({\"items\": playlists_data}, f, indent=4, ensure_ascii=False)\n",
    "\n",
    "print(\"✅ Playlists saved to playlists.json\")\n"
   ]
  },
  {
   "cell_type": "markdown",
   "metadata": {},
   "source": [
    "### Getting Playlist items i.e. Tracks"
   ]
  },
  {
   "cell_type": "code",
   "execution_count": 28,
   "metadata": {},
   "outputs": [],
   "source": [
    "# Load playlists from JSON file\n",
    "with open(\"playlists.json\", \"r\", encoding=\"utf-8\") as f:\n",
    "    playlists = json.load(f)"
   ]
  },
  {
   "cell_type": "code",
   "execution_count": 35,
   "metadata": {},
   "outputs": [
    {
     "name": "stdout",
     "output_type": "stream",
     "text": [
      "Fetching tracks for Oldies (7sNycTeMl6JLt9s3BFL2ld)...\n",
      "Fetching tracks for Sad Hindi Songs 😔💔  (Mood Off 🥺 )  (189Sow1xr7R94oSKs4kISc)...\n",
      "Fetching tracks for Ghazal Playlist (0iF2mH8FoVaM9Bz8CEK9T3)...\n",
      "Fetching tracks for rafta rafta woh meri🌙✨ (69BKWs1DWxZFajArBy46Fm)...\n",
      "Fetching tracks for Romantic Mix (2) (765QDF4kIYQFjM5d9PHgYS)...\n",
      "Fetching tracks for Gym (5GMx2htp7H6K9nzCG3LKx2)...\n",
      "Fetching tracks for Gala (32Zl4adRA20vp2evFLFBMc)...\n",
      "Fetching tracks for Deep Focus (19btKKOB255dgQsBhN4knw)...\n",
      "Fetching tracks for Tera deedar hua,pehla sa pyaar hua ❤️ (0VO64r49n6jThxu1f4OEY2)...\n",
      "Fetching tracks for Tunes 2k18 to 2k19 (74Lq9FhBnCiqVBipYHhBk7)...\n",
      "Fetching tracks for Pakistani Drama Songs New (1XECRXuaUsjdnvfls5jNK1)...\n",
      "Fetching tracks for Gi (0kIWuUTcXSbr3VG1VzDVSf)...\n",
      "Fetching tracks for Chores (4QYiIqvMYd0ztwkMiUIqR0)...\n",
      "Fetching tracks for  (1XhyuQjJaAoEuYueolk018)...\n",
      "Fetching tracks for 8D Music 2024 🎧 8D Audio | 8D Songs by 8D Tunes (2ULLEdMWHTYLEhNbaclKwS)...\n",
      "Fetching tracks for Lofi Songs (Bollywood) 😌💜 (0ffnLxCftwLzmXDO7DJEXc)...\n",
      "Fetching tracks for Your Top Songs 2022 (4nS6ZTL2bMSjmfQrU5MpZZ)...\n",
      "Fetching tracks for Romantic desi songs (6gPaaMz7bnvLQdKXK0CM7b)...\n",
      "Fetching tracks for Old School Bollywood  (3kvBFQTBl4eLBP7yOTawzr)...\n",
      "Fetching tracks for Motivational (2OsA0Kk1V6ggkjVgLdnzQ5)...\n",
      "Fetching tracks for Heart break (63gkKhpGOfcLmFialng8JH)...\n",
      "Fetching tracks for Korean (55tCIa6baKrnaDawRLQ8co)...\n",
      "Fetching tracks for Nikkah (0KtncqrQn2mnVrTZr69KJx)...\n",
      "Fetching tracks for Punjabi (0ZpUEgf32orPhebHDslifO)...\n",
      "Fetching tracks for Audiobook (0I9E1RJqvnveCheueEtxhF)...\n",
      "Fetching tracks for English Playlist (5GO1yZUGMR4JUnGoH9yC6R)...\n",
      "Fetching tracks for Pakistani (4XDwVr9jWk52Qp75WaU9Wa)...\n",
      "Fetching tracks for Drive playlist (6V0SbhLVm5Bq2BZ0La7Xq7)...\n",
      "Fetching tracks for Hindi songs (0ctViW4w9ml5jE6Vi6numY)...\n",
      "Fetching tracks for Chill vibes (0SOljTMZP6b3PnrSCzuVZI)...\n",
      "Fetching tracks for Mama playlist (6OA8ZV9mrsdileHToLEvMc)...\n",
      "Fetching tracks for funfair (2hADL3NLdb80ZsOHOXIH42)...\n",
      "Fetching tracks for Night Vibes (0HJwibBZsGVgFKglJ3W1r7)...\n"
     ]
    }
   ],
   "source": [
    "# Loop through playlists and fetch tracks\n",
    "tracks_data = {}\n",
    "for playlist in playlists.get(\"items\", []):\n",
    "    playlist_id = playlist.get(\"id\")\n",
    "    playlist_name = playlist.get(\"name\", \"Unknown Playlist\")\n",
    "    print(f\"Fetching tracks for {playlist_name} ({playlist_id})...\")\n",
    "    tracks_data[playlist_name] = sp.playlist_items(playlist_id)"
   ]
  },
  {
   "cell_type": "code",
   "execution_count": 36,
   "metadata": {},
   "outputs": [
    {
     "name": "stdout",
     "output_type": "stream",
     "text": [
      "Tracks saved to tracks.json\n"
     ]
    }
   ],
   "source": [
    "# Save to tracks.json\n",
    "with open(\"tracks.json\", \"w\", encoding=\"utf-8\") as f:\n",
    "    json.dump(tracks_data, f, indent=4, ensure_ascii=False)\n",
    "\n",
    "print(\"Tracks saved to tracks.json\")"
   ]
  },
  {
   "cell_type": "code",
   "execution_count": 2,
   "metadata": {},
   "outputs": [
    {
     "name": "stdout",
     "output_type": "stream",
     "text": [
      "Requirement already satisfied: pandas in d:\\spotify api\\.venv\\lib\\site-packages (2.2.3)Note: you may need to restart the kernel to use updated packages.\n"
     ]
    },
    {
     "name": "stderr",
     "output_type": "stream",
     "text": [
      "\n",
      "[notice] A new release of pip is available: 24.3.1 -> 25.0.1\n",
      "[notice] To update, run: python.exe -m pip install --upgrade pip\n"
     ]
    },
    {
     "name": "stdout",
     "output_type": "stream",
     "text": [
      "\n",
      "Requirement already satisfied: numpy>=1.26.0 in d:\\spotify api\\.venv\\lib\\site-packages (from pandas) (2.2.3)\n",
      "Requirement already satisfied: python-dateutil>=2.8.2 in d:\\spotify api\\.venv\\lib\\site-packages (from pandas) (2.9.0.post0)\n",
      "Requirement already satisfied: pytz>=2020.1 in d:\\spotify api\\.venv\\lib\\site-packages (from pandas) (2025.1)\n",
      "Requirement already satisfied: tzdata>=2022.7 in d:\\spotify api\\.venv\\lib\\site-packages (from pandas) (2025.1)\n",
      "Requirement already satisfied: six>=1.5 in d:\\spotify api\\.venv\\lib\\site-packages (from python-dateutil>=2.8.2->pandas) (1.17.0)\n"
     ]
    }
   ],
   "source": [
    "%pip install pandas"
   ]
  },
  {
   "cell_type": "code",
   "execution_count": 3,
   "metadata": {},
   "outputs": [],
   "source": [
    "import json \n",
    "import pandas as pd"
   ]
  },
  {
   "cell_type": "code",
   "execution_count": 8,
   "metadata": {},
   "outputs": [],
   "source": [
    "with open(\"tracks.json\", \"r\" , encoding= 'utf-8') as file:\n",
    "    data = json.load(file)"
   ]
  },
  {
   "cell_type": "code",
   "execution_count": 26,
   "metadata": {},
   "outputs": [],
   "source": [
    "tracks = []\n",
    "for playlist_name, playlist_data in data.items():\n",
    "    if 'items' in playlist_data:\n",
    "        for item in playlist_data['items']:\n",
    "            track = item.get('track', {})\n",
    "            track_name = track.get('name')\n",
    "            track_id = track.get('id')\n",
    "            if track_name and track_id:\n",
    "                tracks.append({'Track name': track_name, 'Track id': track_id})"
   ]
  },
  {
   "cell_type": "code",
   "execution_count": 27,
   "metadata": {},
   "outputs": [],
   "source": [
    "df = pd.DataFrame(tracks)"
   ]
  },
  {
   "cell_type": "code",
   "execution_count": 28,
   "metadata": {},
   "outputs": [],
   "source": [
    "df.to_csv('tracks.csv')"
   ]
  },
  {
   "cell_type": "code",
   "execution_count": 29,
   "metadata": {},
   "outputs": [
    {
     "data": {
      "text/html": [
       "<div>\n",
       "<style scoped>\n",
       "    .dataframe tbody tr th:only-of-type {\n",
       "        vertical-align: middle;\n",
       "    }\n",
       "\n",
       "    .dataframe tbody tr th {\n",
       "        vertical-align: top;\n",
       "    }\n",
       "\n",
       "    .dataframe thead th {\n",
       "        text-align: right;\n",
       "    }\n",
       "</style>\n",
       "<table border=\"1\" class=\"dataframe\">\n",
       "  <thead>\n",
       "    <tr style=\"text-align: right;\">\n",
       "      <th></th>\n",
       "      <th>Track name</th>\n",
       "      <th>Track id</th>\n",
       "    </tr>\n",
       "  </thead>\n",
       "  <tbody>\n",
       "    <tr>\n",
       "      <th>0</th>\n",
       "      <td>Itna Na Mujhse Tu Pyar Badha - Duet</td>\n",
       "      <td>5U3LJ3XtA63pGWMeskRULX</td>\n",
       "    </tr>\n",
       "    <tr>\n",
       "      <th>1</th>\n",
       "      <td>Aksar Is Duniya Mein</td>\n",
       "      <td>6m2UYr6ZJN8wtDzOauBIb9</td>\n",
       "    </tr>\n",
       "    <tr>\n",
       "      <th>2</th>\n",
       "      <td>Teri Baaton</td>\n",
       "      <td>7BgYR9r202eRYKMgCtebII</td>\n",
       "    </tr>\n",
       "    <tr>\n",
       "      <th>3</th>\n",
       "      <td>Abhi Na Jao Chhod Kar</td>\n",
       "      <td>2oaKoKA8bvgWfBi9M8wEVJ</td>\n",
       "    </tr>\n",
       "    <tr>\n",
       "      <th>4</th>\n",
       "      <td>Hothon Se Chhu Lo Tum - From \"Prem Geet\"</td>\n",
       "      <td>4mBmsPcPa1Eu4LDTHq55Ab</td>\n",
       "    </tr>\n",
       "    <tr>\n",
       "      <th>...</th>\n",
       "      <td>...</td>\n",
       "      <td>...</td>\n",
       "    </tr>\n",
       "    <tr>\n",
       "      <th>1818</th>\n",
       "      <td>Halka Halka</td>\n",
       "      <td>5IPQRERKcsXeaKlRpEJr28</td>\n",
       "    </tr>\n",
       "    <tr>\n",
       "      <th>1819</th>\n",
       "      <td>Tu Jaane Na</td>\n",
       "      <td>4iFPsNzNV7V9KJgcOX7TEO</td>\n",
       "    </tr>\n",
       "    <tr>\n",
       "      <th>1820</th>\n",
       "      <td>Allah Waariyan</td>\n",
       "      <td>6YYVzVapUF3UnZQ0igasl3</td>\n",
       "    </tr>\n",
       "    <tr>\n",
       "      <th>1821</th>\n",
       "      <td>Humdard (From \"Ek Villain\")</td>\n",
       "      <td>2PvaburAUlhNHxVhw5lvOq</td>\n",
       "    </tr>\n",
       "    <tr>\n",
       "      <th>1822</th>\n",
       "      <td>Judaai</td>\n",
       "      <td>2MsGTWvf7dcjKbI0WTq6Pz</td>\n",
       "    </tr>\n",
       "  </tbody>\n",
       "</table>\n",
       "<p>1823 rows × 2 columns</p>\n",
       "</div>"
      ],
      "text/plain": [
       "                                    Track name                Track id\n",
       "0          Itna Na Mujhse Tu Pyar Badha - Duet  5U3LJ3XtA63pGWMeskRULX\n",
       "1                         Aksar Is Duniya Mein  6m2UYr6ZJN8wtDzOauBIb9\n",
       "2                                  Teri Baaton  7BgYR9r202eRYKMgCtebII\n",
       "3                        Abhi Na Jao Chhod Kar  2oaKoKA8bvgWfBi9M8wEVJ\n",
       "4     Hothon Se Chhu Lo Tum - From \"Prem Geet\"  4mBmsPcPa1Eu4LDTHq55Ab\n",
       "...                                        ...                     ...\n",
       "1818                               Halka Halka  5IPQRERKcsXeaKlRpEJr28\n",
       "1819                               Tu Jaane Na  4iFPsNzNV7V9KJgcOX7TEO\n",
       "1820                            Allah Waariyan  6YYVzVapUF3UnZQ0igasl3\n",
       "1821               Humdard (From \"Ek Villain\")  2PvaburAUlhNHxVhw5lvOq\n",
       "1822                                    Judaai  2MsGTWvf7dcjKbI0WTq6Pz\n",
       "\n",
       "[1823 rows x 2 columns]"
      ]
     },
     "execution_count": 29,
     "metadata": {},
     "output_type": "execute_result"
    }
   ],
   "source": [
    "df"
   ]
  },
  {
   "cell_type": "code",
   "execution_count": null,
   "metadata": {},
   "outputs": [],
   "source": []
  }
 ],
 "metadata": {
  "kernelspec": {
   "display_name": ".venv",
   "language": "python",
   "name": "python3"
  },
  "language_info": {
   "codemirror_mode": {
    "name": "ipython",
    "version": 3
   },
   "file_extension": ".py",
   "mimetype": "text/x-python",
   "name": "python",
   "nbconvert_exporter": "python",
   "pygments_lexer": "ipython3",
   "version": "3.13.2"
  }
 },
 "nbformat": 4,
 "nbformat_minor": 2
}
