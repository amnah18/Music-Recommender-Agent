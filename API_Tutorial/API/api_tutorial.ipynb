{
 "cells": [
  {
   "cell_type": "markdown",
   "metadata": {},
   "source": [
    "# API Tutorial"
   ]
  },
  {
   "cell_type": "markdown",
   "metadata": {},
   "source": [
    "## Auth"
   ]
  },
  {
   "cell_type": "markdown",
   "metadata": {},
   "source": [
    "Created an app on spotify to get client id and client secret"
   ]
  },
  {
   "cell_type": "code",
   "execution_count": 39,
   "metadata": {},
   "outputs": [
    {
     "name": "stdout",
     "output_type": "stream",
     "text": [
      "Requirement already satisfied: requests in d:\\spotify api\\.venv\\lib\\site-packages (2.32.3)\n",
      "Requirement already satisfied: charset-normalizer<4,>=2 in d:\\spotify api\\.venv\\lib\\site-packages (from requests) (3.4.1)\n",
      "Requirement already satisfied: idna<4,>=2.5 in d:\\spotify api\\.venv\\lib\\site-packages (from requests) (3.10)\n",
      "Requirement already satisfied: urllib3<3,>=1.21.1 in d:\\spotify api\\.venv\\lib\\site-packages (from requests) (2.3.0)\n",
      "Requirement already satisfied: certifi>=2017.4.17 in d:\\spotify api\\.venv\\lib\\site-packages (from requests) (2024.12.14)\n",
      "Note: you may need to restart the kernel to use updated packages.\n"
     ]
    },
    {
     "name": "stderr",
     "output_type": "stream",
     "text": [
      "\n",
      "[notice] A new release of pip is available: 24.3.1 -> 25.0.1\n",
      "[notice] To update, run: python.exe -m pip install --upgrade pip\n"
     ]
    }
   ],
   "source": [
    "%pip install requests"
   ]
  },
  {
   "cell_type": "code",
   "execution_count": 40,
   "metadata": {},
   "outputs": [],
   "source": [
    "import base64\n",
    "import requests\n",
    "import datetime"
   ]
  },
  {
   "cell_type": "code",
   "execution_count": null,
   "metadata": {},
   "outputs": [],
   "source": [
    "client_id = \"6b85ad7742d149769224446904f03a0a\"\n",
    "client_secret = \"3d4f629effbb4bf1896b7b90ce68d75e\""
   ]
  },
  {
   "cell_type": "code",
   "execution_count": 42,
   "metadata": {},
   "outputs": [],
   "source": [
    "# Grab a token for future request"
   ]
  },
  {
   "cell_type": "markdown",
   "metadata": {},
   "source": [
    "Now we need to authorize our client\n",
    "Go to https://developer.spotify.com/documentation/web-api/tutorials/code-flow\n",
    "for obtaining app authorization to access user data for future use"
   ]
  },
  {
   "cell_type": "markdown",
   "metadata": {},
   "source": [
    "For Authorizing the client Creditioals flow we have to enode our client credentials in base 64"
   ]
  },
  {
   "cell_type": "code",
   "execution_count": 43,
   "metadata": {},
   "outputs": [],
   "source": [
    "# implementing <base64 encoded client_id:client_secret> as nedeed for the token \n",
    "client_creds = f\"{client_id}:{client_secret}\""
   ]
  },
  {
   "cell_type": "code",
   "execution_count": 44,
   "metadata": {},
   "outputs": [
    {
     "data": {
      "text/plain": [
       "b'NmI4NWFkNzc0MmQxNDk3NjkyMjQ0NDY5MDRmMDNhMGE6M2Q0ZjYyOWVmZmJiNGJmMTg5NmI3YjkwY2U2OGQ3NWU='"
      ]
     },
     "execution_count": 44,
     "metadata": {},
     "output_type": "execute_result"
    }
   ],
   "source": [
    "# Encoding client credentials in base64\n",
    "client_creds_b64 = base64.b64encode(client_creds.encode())\n",
    "client_creds_b64"
   ]
  },
  {
   "cell_type": "code",
   "execution_count": 45,
   "metadata": {},
   "outputs": [],
   "source": [
    "# Example : If you have to decode or how the token will be decoded\n",
    "# decoded_creds =base64.b64decode(client_creds_b64)\n",
    "# decoded_creds"
   ]
  },
  {
   "cell_type": "code",
   "execution_count": 46,
   "metadata": {},
   "outputs": [],
   "source": [
    "token_url = 'https://accounts.spotify.com/api/token'\n",
    "method = 'POST'\n",
    "token_data ={\n",
    "    \"grant_type\":\"client_credentials\"\n",
    "}\n",
    "token_headers = {\n",
    "    \"Authorization\":f\"Basic {client_creds_b64.decode()}\"\n",
    "}"
   ]
  },
  {
   "cell_type": "code",
   "execution_count": null,
   "metadata": {},
   "outputs": [
    {
     "name": "stdout",
     "output_type": "stream",
     "text": [
      "{'access_token': 'BQAoBCE9Kf9XYFxpuUWQH-YJkfyRpxUd6bcMhKFtsUMb4mpv6zy8kBbRQ0hsCo9uKag4LgPBc-nHgRaZdJAtaC2WdiXke0wBgzfa9DdHVEQ9iVwkTyT2jfUHy0UIA20HvohVp31glHc', 'token_type': 'Bearer', 'expires_in': 3600}\n"
     ]
    }
   ],
   "source": [
    "r = requests.post(token_url, data = token_data, headers = token_headers)\n",
    "print(r.json())\n",
    "token_response_data = r.json()\n",
    "valid_request = r.status_code in range (200,299)"
   ]
  },
  {
   "cell_type": "code",
   "execution_count": null,
   "metadata": {},
   "outputs": [],
   "source": [
    "if valid_request:\n",
    "    now = datetime.datetime.now()\n",
    "    access_token = token_response_data['access_token']\n",
    "    expires_in = token_response_data['expires_in']\n",
    "    expires_at = now + datetime.timedelta(seconds = expires_in)\n",
    "    did_expire = expires_at < now"
   ]
  },
  {
   "cell_type": "code",
   "execution_count": null,
   "metadata": {},
   "outputs": [],
   "source": []
  }
 ],
 "metadata": {
  "kernelspec": {
   "display_name": ".venv",
   "language": "python",
   "name": "python3"
  },
  "language_info": {
   "codemirror_mode": {
    "name": "ipython",
    "version": 3
   },
   "file_extension": ".py",
   "mimetype": "text/x-python",
   "name": "python",
   "nbconvert_exporter": "python",
   "pygments_lexer": "ipython3",
   "version": "3.13.2"
  }
 },
 "nbformat": 4,
 "nbformat_minor": 2
}
